{
 "cells": [
  {
   "cell_type": "markdown",
   "metadata": {},
   "source": [
    "# Introduction aux commandes SageMath."
   ]
  },
  {
   "cell_type": "markdown",
   "metadata": {},
   "source": [
    "## Partie 1 : Les mathématiques dans Sage.\n",
    "\n",
    "Avant de commencer la programmation de la méthode de façon formelle, il est important de comprendre comment définir des fonctions et comment afficher leur graphique à l'aide de Sage.\n",
    "\n",
    "### Définir une fonction\n",
    "\n",
    "1) Marquer d'abord le nom de la fonction (ex: `f`).\n",
    "\n",
    "2) Entrer ensuite les variables entre parenthèses (ex: `f(x)`).\n",
    "\n",
    "3) Mettre ensuite **un seul** signe d'égalité (ex: `f(x) =`).\n",
    "\n",
    "4) Finalement écrire la règle de correspondance de la fonction (ex: `f(x) = x^2 +4`)."
   ]
  },
  {
   "cell_type": "markdown",
   "metadata": {},
   "source": [
    "#1 **Exemple**: Définir la fonction: $x^3 + x^2 + \\cos(5) - 3$  et la nommer $g(x)$."
   ]
  },
  {
   "cell_type": "code",
   "execution_count": null,
   "metadata": {},
   "outputs": [],
   "source": [
    "g(x)=x^3+x^2+cos(5)-3"
   ]
  },
  {
   "cell_type": "markdown",
   "metadata": {},
   "source": [
    "#2 **Exemple**: Évaluer $g(2)$"
   ]
  },
  {
   "cell_type": "code",
   "execution_count": null,
   "metadata": {},
   "outputs": [],
   "source": [
    "g(2)"
   ]
  },
  {
   "cell_type": "markdown",
   "metadata": {},
   "source": [
    "### Graphique d'une fonction\n",
    "\n",
    "Pour créer le graphique d'une fonction, il faut utiliser la commande `plot`.\n",
    "\n",
    "Avec la fonction que vous avez définie précédemment:\n",
    "\n",
    "1) Écrire `plot` suivi de deux parenthèses\n",
    "\n",
    "2) Marquer le nom de la fonction *avec la variable* (ex: `plot(f(x)`) \n"
   ]
  },
  {
   "cell_type": "markdown",
   "metadata": {},
   "source": [
    "#3 **Exemple**:"
   ]
  },
  {
   "cell_type": "code",
   "execution_count": null,
   "metadata": {},
   "outputs": [],
   "source": [
    "f(x) = x^2+4\n",
    "f(x)"
   ]
  },
  {
   "cell_type": "code",
   "execution_count": null,
   "metadata": {},
   "outputs": [],
   "source": [
    "plot(f(x))"
   ]
  },
  {
   "cell_type": "markdown",
   "metadata": {},
   "source": [
    "#4 **Exercice**: Tracer le graphique de la fonction $g$ que vous avez définie plus tôt"
   ]
  },
  {
   "cell_type": "code",
   "execution_count": null,
   "metadata": {},
   "outputs": [],
   "source": []
  },
  {
   "cell_type": "markdown",
   "metadata": {},
   "source": [
    "### Pour spécifier les bornes de l'axe horizontal d'un graphique:\n",
    "\n",
    "1) Ajouter une virgule après le nom de la fonction (ex: `plot(f(x),)`)\n",
    "\n",
    "2) Entrer le nom de la variable indépendante *x*, suivi d'une autre virgule (ex: `plot(f(x), x,)`)\n",
    "\n",
    "3) Entrer les bornes de l'axe horizontal, séparées par une virgule (ex: `plot(f(x), x, -5, 5)`)\n"
   ]
  },
  {
   "cell_type": "markdown",
   "metadata": {},
   "source": [
    " **#5 Exemple**:"
   ]
  },
  {
   "cell_type": "code",
   "execution_count": null,
   "metadata": {},
   "outputs": [],
   "source": [
    "plot(f(x), x, -5, 5)"
   ]
  },
  {
   "cell_type": "markdown",
   "metadata": {},
   "source": [
    "#6 **Exercice**: Tracer le graphique de la fonction $g$ sur l'intervalle $[-2 \\,, 2]$."
   ]
  },
  {
   "cell_type": "code",
   "execution_count": null,
   "metadata": {},
   "outputs": [],
   "source": []
  },
  {
   "cell_type": "markdown",
   "metadata": {},
   "source": [
    "### Pour spécifier les bornes de l'axe vertical d'un graphique:\n",
    "\n",
    "Pour l'axe vertical, il faut procéder un peu différemment:\n",
    "\n",
    "1) Ajouter une virgule après la borne supérieure de l'axe des x (ex: `plot(f(x), x, 1, 5,)`)\n",
    "\n",
    "2) Écrire `ymin=`, suivi de la borne inférieure en y. Puis, faire la même chose pour le maximun, `ymax=`, suivi de la borne supérieure. (ex: `plot(f(x), x, 1, 5, ymin=0, ymax=5)`)"
   ]
  },
  {
   "cell_type": "markdown",
   "metadata": {},
   "source": [
    "#7 **Exemple:**"
   ]
  },
  {
   "cell_type": "code",
   "execution_count": null,
   "metadata": {},
   "outputs": [],
   "source": [
    "plot(f(x), x, -2, 2, ymin=3, ymax=5)"
   ]
  },
  {
   "cell_type": "markdown",
   "metadata": {},
   "source": [
    "#8 **Exercice**: Recadrer le graphique de la fonction $g$ sur l'axe des *y* avec une borne inférieure de -5 et une borne supérieure de 2"
   ]
  },
  {
   "cell_type": "code",
   "execution_count": null,
   "metadata": {},
   "outputs": [],
   "source": []
  },
  {
   "cell_type": "markdown",
   "metadata": {},
   "source": [
    "### Afficher plusieurs graphiques dans la même fenêtre\n",
    "\n",
    "1. Définir les 2 fonctions. (ex : `f(x)=x^2+4` et `g(x)=x^3 + x^2 + cos(5) - 3`\n",
    "\n",
    "\n",
    "2. En utilisant *plot*, définir deux variables `graph1`et `graph2` qui contiendront les graphiques des fonctions. (ex.: `graph1 = plot(f(x), 1, 5, color=\"green\")` , `graph2 = plot(g(x), 1, 5, color=\"red\")`) *Remarquez que l'option `color` permet de spécifier la couleur du graphique ce qui est très utile.*\n",
    " \n",
    " \n",
    "3. Aditionner les 2 variables `graph1`et `graph2` afin de superposer les 2 graphiques. (ex : `graph1`+`graph2`)"
   ]
  },
  {
   "cell_type": "markdown",
   "metadata": {},
   "source": [
    "#9 **Exemple**:"
   ]
  },
  {
   "cell_type": "code",
   "execution_count": null,
   "metadata": {},
   "outputs": [],
   "source": [
    "graph1 = plot(f(x), 1, 5, color=\"green\")\n",
    "graph2 = plot(g(x), 1, 5, color=\"red\")\n",
    "graph1+graph2"
   ]
  },
  {
   "cell_type": "markdown",
   "metadata": {},
   "source": [
    "##  Partie 2: Commandes utiles"
   ]
  },
  {
   "cell_type": "markdown",
   "metadata": {},
   "source": [
    "### N"
   ]
  },
  {
   "cell_type": "markdown",
   "metadata": {},
   "source": [
    "La commande `N` permet de convertir une valeur en nombre décimal.\n",
    "\n",
    "1. Écrire la commande `N` suivi de parenthèse. (ex : `N()`) \n",
    "\n",
    "2. Écrire l'expression à convertir entre les parenthèses. (ex :`N(1/2)`)\n",
    "\n",
    "#10 **Exemple**. Mettre la valeur $\\frac{1}{2}$ sous forme décimale."
   ]
  },
  {
   "cell_type": "code",
   "execution_count": null,
   "metadata": {},
   "outputs": [],
   "source": [
    "N(1/2)"
   ]
  },
  {
   "cell_type": "markdown",
   "metadata": {},
   "source": [
    "### La valeur absolue\n",
    "\n",
    "La commande `abs` permet de calculer la valeur absolue d'une expression  :\n",
    "\n",
    "1. Écrire la commande `abs` avec des parenthèses. (ex : `abs()`) \n",
    "\n",
    "2. Écrire l'expression dont la valeur absolue est à calculer entre les parenthèses. (ex :`abs(-3)`)\n"
   ]
  },
  {
   "cell_type": "markdown",
   "metadata": {},
   "source": [
    "#11 **Exercice**: Évaluer la valeur absolu de $(-2)^3$"
   ]
  },
  {
   "cell_type": "code",
   "execution_count": null,
   "metadata": {},
   "outputs": [],
   "source": []
  },
  {
   "cell_type": "markdown",
   "metadata": {},
   "source": [
    "### Solve\n",
    "\n",
    "La commande `solve` permet de résoudre une équation.\n",
    "\n",
    "1. Écrire la commande `solve` suivi de parenthèses. (ex : `solve()`) \n",
    "\n",
    "2. Écrire l'équation que vous voulez résoudre entre les parenthèses. (ex :`solve(x^2-4 == 0)`)\n",
    "\n",
    "***Ne pas oublier qu'en programmation, pour inscrire une équation il faut mettre deux signes d'égalité.*** \n",
    "\n",
    "3. Mettre une virgule suivie de la variable à isoler (ex: `solve(x^2-4 == 0,x)`)"
   ]
  },
  {
   "cell_type": "markdown",
   "metadata": {},
   "source": [
    "#12 **Exercice**: Isoler la variable *x* dans l'équation suivante: $3x +5 = 6$"
   ]
  },
  {
   "cell_type": "code",
   "execution_count": null,
   "metadata": {},
   "outputs": [],
   "source": []
  },
  {
   "cell_type": "markdown",
   "metadata": {},
   "source": [
    "### Solve_approx\n",
    "La commande `solveapprox` permet de résoudre une équation et retourne une solution exprimée sous forme décimale.\n",
    "\n",
    "Cette commande s'utilise de la même façon que la commande `solve`, mais elle n'existe pas d'emblée dans Sage. Il faut **absolument** exécuter la cellule ci-dessous pour la définir, **avant** de l'utiliser.)"
   ]
  },
  {
   "cell_type": "code",
   "execution_count": null,
   "metadata": {},
   "outputs": [],
   "source": [
    "# ATTENTION: Exécuter cette cellule avant de commencer les exercices!\n",
    "def solve_approx(eqn, var):\n",
    "    SOL = solve(eqn, var)\n",
    "    return [N(s.rhs()) for s in SOL]"
   ]
  },
  {
   "cell_type": "markdown",
   "metadata": {},
   "source": [
    "#13 **Exercice**: Isoler la variable *x* dans l'équation suivante: $3x +5 = 6$ avec une valeur en décimale."
   ]
  },
  {
   "cell_type": "code",
   "execution_count": null,
   "metadata": {},
   "outputs": [],
   "source": []
  },
  {
   "cell_type": "markdown",
   "metadata": {},
   "source": [
    "### Expand"
   ]
  },
  {
   "cell_type": "markdown",
   "metadata": {},
   "source": [
    "La commande `expand` permet de développer une expression.\n",
    "\n",
    "1. Écrire la commande `expand` suivi de parenthèses. (ex : `expand()`). \n",
    "\n",
    "2. Écrire l'expression à développer entre les parenthèses. (ex :`expand((x+1)^3)`).\n"
   ]
  },
  {
   "cell_type": "markdown",
   "metadata": {},
   "source": [
    "#14 **Exercice**: Développer l'expression suivante $(2x-4)(3x+5)$"
   ]
  },
  {
   "cell_type": "code",
   "execution_count": null,
   "metadata": {},
   "outputs": [],
   "source": []
  },
  {
   "cell_type": "markdown",
   "metadata": {},
   "source": [
    "### Factor"
   ]
  },
  {
   "cell_type": "markdown",
   "metadata": {},
   "source": [
    "La commande `factor` permet de factoriser une expression.\n",
    "\n",
    "1. Écrire la commande `factor` suivi de parenthèses. (ex : `factor()`). \n",
    "\n",
    "2. Écrire l'expression à factoriser entre les parenthèses. (ex :`factor(12*x^5-6*x^3+2*x^2)`).\n"
   ]
  },
  {
   "cell_type": "markdown",
   "metadata": {},
   "source": [
    "#15 **Exercice**: Factoriser le polynôme suivant: $6x^7+12x^4+18x^3+36$"
   ]
  },
  {
   "cell_type": "code",
   "execution_count": null,
   "metadata": {},
   "outputs": [],
   "source": []
  },
  {
   "cell_type": "markdown",
   "metadata": {},
   "source": [
    "### La dérivée\n",
    "\n",
    "La commande `diff` permet de trouver la dérivée d'une expression  :\n",
    "\n",
    "1. Écrire la commande `diff` avec des parenthèses. (ex : `diff()`) \n",
    "\n",
    "2. Écrire la fonction à dériver entre les parenthèses. (ex :`diff(f(x))`)\n",
    "\n",
    "### Évaluer une fonction dérivée\n",
    "\n",
    "1. Créez une fonction dérivée $f'(x)$ (ex: `fp(x) = diff(f(x))` )\n",
    " \n",
    "2. Évaluez cette dérivée au point $x=3$ (ex: `fp(3)`)\n"
   ]
  },
  {
   "cell_type": "markdown",
   "metadata": {},
   "source": [
    "#16 **Exercice**: Évaluer $f'(7)$ si $f(x)=3x^2+5x+7$"
   ]
  },
  {
   "cell_type": "code",
   "execution_count": null,
   "metadata": {},
   "outputs": [],
   "source": []
  },
  {
   "cell_type": "markdown",
   "metadata": {},
   "source": [
    "Dans les exercices suivant, il faudra trouver l'ordonnée à l'origine de la fonction $f(x)$. Comme il est habituel d'utiliser lettre $b$ pour parler de l'ordonnée à l'origine, il faut exécuter la ligne de commande suivante. Elle permettra d'utiliser la variable $b$ dans les commandes Sage."
   ]
  },
  {
   "cell_type": "code",
   "execution_count": null,
   "metadata": {},
   "outputs": [],
   "source": [
    "var('b')"
   ]
  },
  {
   "cell_type": "markdown",
   "metadata": {},
   "source": [
    "### Exercices\n",
    "À l'aide de Sage:\n",
    "1. Trouver la pente de la droite tangente à la fonction $f(x)= 3x^4-2x^2-4$ au point $x=1$.\n",
    "2. Trouver l'ordonnée à l'origine de la droite tangente à la fonction $f(x)= 3x^4-2x^2-4$ au point $x=1$. \n",
    "3. Dans une même fenêtre, tracer le graphique de la fonction $f(x)$ et de sa droite tangente au point $x=1$. "
   ]
  },
  {
   "cell_type": "code",
   "execution_count": null,
   "metadata": {},
   "outputs": [],
   "source": []
  },
  {
   "cell_type": "code",
   "execution_count": null,
   "metadata": {},
   "outputs": [],
   "source": []
  },
  {
   "cell_type": "code",
   "execution_count": null,
   "metadata": {},
   "outputs": [],
   "source": []
  }
 ],
 "metadata": {
  "kernelspec": {
   "display_name": "SageMath 9.3",
   "language": "sage",
   "name": "sagemath"
  },
  "language_info": {
   "codemirror_mode": {
    "name": "ipython",
    "version": 3
   },
   "file_extension": ".py",
   "mimetype": "text/x-python",
   "name": "python",
   "nbconvert_exporter": "python",
   "pygments_lexer": "ipython3",
   "version": "3.7.10"
  }
 },
 "nbformat": 4,
 "nbformat_minor": 4
}
