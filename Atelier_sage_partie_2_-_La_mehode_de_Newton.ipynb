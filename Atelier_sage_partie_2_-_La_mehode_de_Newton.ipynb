{
 "cells": [
  {
   "cell_type": "markdown",
   "metadata": {},
   "source": [
    "# Nom:\n",
    "\n",
    "# Nom:"
   ]
  },
  {
   "cell_type": "markdown",
   "metadata": {},
   "source": [
    "# Atelier sage : La méthode de Newton"
   ]
  },
  {
   "cell_type": "markdown",
   "metadata": {},
   "source": [
    "Le but de cette activité est de programmer la méthode de Newton à l'aide d'un outil symbolique.\n",
    "\n",
    "Avant de commencer, on va exécuter les deux blocs de commandes suivants. Le premier permet d'utiliser la commande `solve_approx`. Le deuxième vous permet d'utiliser $b$ comme une variable, sans devoir lui assigner une valeur (c'est utile dans la commande `solve` par exemple."
   ]
  },
  {
   "cell_type": "code",
   "execution_count": null,
   "metadata": {},
   "outputs": [],
   "source": [
    "# ATTENTION: Exécuter cette cellule avant de commencer les exercices!\n",
    "def solve_approx(eqn, var):\n",
    "    SOL = solve(eqn, var)\n",
    "    return [N(s.rhs()) for s in SOL]"
   ]
  },
  {
   "cell_type": "code",
   "execution_count": 1,
   "metadata": {},
   "outputs": [
    {
     "data": {
      "text/plain": [
       "b"
      ]
     },
     "execution_count": 1,
     "metadata": {},
     "output_type": "execute_result"
    }
   ],
   "source": [
    "var(\"b\")"
   ]
  },
  {
   "cell_type": "markdown",
   "metadata": {},
   "source": [
    "Nous allons commencer par appliquer la méthode Newton pas à pas pour trouver le zéro d'une fonction.\n",
    "À chaque étape, nous allons représenter graphiquement le progrès effectuer, c'est-à-dire que nous allons tracer les différentes droites tangentes qui nous permettent de converger vers le zéro de la fonction. Considérons $f(x)=7x^3-2x^2+14x-1$ avec comme point de départ $x_0=-2$."
   ]
  },
  {
   "cell_type": "markdown",
   "metadata": {},
   "source": [
    "#1 **Exercice**: Trouver la pente de la droite tangente à $f(x)$ au point de départ $x_0=-2$."
   ]
  },
  {
   "cell_type": "code",
   "execution_count": null,
   "metadata": {},
   "outputs": [],
   "source": []
  },
  {
   "cell_type": "markdown",
   "metadata": {},
   "source": [
    "#2 **Exercice**: Trouver l'ordonnée à l'origine (le $b$ dans l'équation) de la droite tangente au point $(x_0;f(x_0))$. C'est-à-dire au point $(-2;f(-2))$."
   ]
  },
  {
   "cell_type": "code",
   "execution_count": null,
   "metadata": {},
   "outputs": [],
   "source": []
  },
  {
   "cell_type": "markdown",
   "metadata": {},
   "source": [
    "#3 **Exercice**: Dans le même plan cartésien, tracer la fonction  $f(x)$, en bleu, ainsi que la droite tangente, en rouge, trouvé à la question précédente."
   ]
  },
  {
   "cell_type": "code",
   "execution_count": null,
   "metadata": {},
   "outputs": [],
   "source": []
  },
  {
   "cell_type": "markdown",
   "metadata": {},
   "source": [
    "La prochaine étape de la méthode de Newton est de trouver le zéro de cette droite tangente.\n",
    " \n",
    "#4 **Exercice**: Trouver le zéro de la droite tangente de l'exercice précédent. Dans les prochains exercices, utiliser des valeurs approchées à trois décimales pour vos calculs."
   ]
  },
  {
   "cell_type": "code",
   "execution_count": null,
   "metadata": {},
   "outputs": [],
   "source": []
  },
  {
   "cell_type": "markdown",
   "metadata": {},
   "source": [
    "#5 **Exercice**: Dans le même plan cartésien, tracer la fonction  $f(x)$, en bleu, ainsi que la droite tangente, en rouge, trouvé à la question précédente. Cette fois, faites en sorte que la droite tangente soit seulement tracer du point de tangence jusqu'à son zéro."
   ]
  },
  {
   "cell_type": "code",
   "execution_count": null,
   "metadata": {},
   "outputs": [],
   "source": []
  },
  {
   "cell_type": "markdown",
   "metadata": {},
   "source": [
    "Le zéro de la droite tangente trouvé précédemment fourni la coordonnées en *x* de notre nouveau point de départ pour la prochaine itération de la méthode de Newton. Donc le point$(x_1;f(x_1))$ et en fait le point $\\left(-1.123;f\\left(-1.123\\right)\\right)$.\n",
    "\n",
    "Nous voulons faire les deux prochaines itération de la méthode de Newton, allons y par étapes."
   ]
  },
  {
   "cell_type": "markdown",
   "metadata": {},
   "source": [
    "#6 **Exercice**: Trouver la valeur de l'ordonnée à l'origine de la droite tangente à $f(x)$ en $x=x_1$."
   ]
  },
  {
   "cell_type": "code",
   "execution_count": null,
   "metadata": {},
   "outputs": [],
   "source": []
  },
  {
   "cell_type": "markdown",
   "metadata": {},
   "source": [
    "#7 **Exercice**: Trouver la coordonnée en *x* du zéro de la droite tangente à $f(x)$ en $x=x_1$. Ce zéro c'est le point $x_2$."
   ]
  },
  {
   "cell_type": "code",
   "execution_count": null,
   "metadata": {},
   "outputs": [],
   "source": []
  },
  {
   "cell_type": "markdown",
   "metadata": {},
   "source": [
    "#8 **Exercice**: Trouver la valeur de l'ordonnée à l'origine de la droite tangente à $f(x)$ en $x=x_2$."
   ]
  },
  {
   "cell_type": "code",
   "execution_count": null,
   "metadata": {},
   "outputs": [],
   "source": []
  },
  {
   "cell_type": "markdown",
   "metadata": {},
   "source": [
    "#9 **Exercice**: Trouver la coordonnées en *x* du zéro de la droite tangente à $f(x)$ en $x=x_2$. Ce zéro est le point $x_3$."
   ]
  },
  {
   "cell_type": "code",
   "execution_count": null,
   "metadata": {},
   "outputs": [],
   "source": []
  },
  {
   "cell_type": "markdown",
   "metadata": {},
   "source": [
    "**Exercice**: Dans le même plan cartésien, tracer le graphique de la fonction $f(x)$, en bleu, ainsi que les 3 droites tangentes trouvées précédemment avec trois couleurs différentes. Faites en sorte que les droites tangentes soient seulement tracées de leur point de tangence jusqu'à leur zéro."
   ]
  },
  {
   "cell_type": "code",
   "execution_count": null,
   "metadata": {},
   "outputs": [],
   "source": []
  },
  {
   "cell_type": "markdown",
   "metadata": {},
   "source": [
    "## La méthode de Newton avec une boucle"
   ]
  },
  {
   "cell_type": "markdown",
   "metadata": {},
   "source": [
    "Trouver les zéros des droites tangentes de la méthode de Newton est une opération fastidieuse et **répétitive**. Dans cette dernière section, nous allons utiliser une boucle `while` qui permettra d'automatiser la méhode de Newton afin que l'ordinateur exécute pour nous ces opérations répétitives."
   ]
  },
  {
   "cell_type": "markdown",
   "metadata": {},
   "source": [
    "Considérons la fonction: $f(x)=7x^3-2x^2+14x-1$ avec comme point de départ $x_0=-2$ comme dans la précédente section. Trouver le zéro de la fonction à l'aide de la méthode de Newton et d'une boucle `while`.\n",
    "\n",
    "**Exemple**: Définissons d'abord la fonction et sa dérivée."
   ]
  },
  {
   "cell_type": "code",
   "execution_count": null,
   "metadata": {},
   "outputs": [],
   "source": [
    "f(x)=7*x^3-2*x^2+14*x-1\n",
    "fp(x)=diff(f(x))"
   ]
  },
  {
   "cell_type": "markdown",
   "metadata": {},
   "source": [
    "Nous avons vu dans le cours que si nous avons $x_0$ comme point de tangence, alors le zéro de la droite tangente sera $\\displaystyle x_1=x_0-\\frac{f(x_0)}{f'(x_0)}$.\n",
    "\n",
    "#12 **Exemple**: Initinalisons ces valeurs."
   ]
  },
  {
   "cell_type": "code",
   "execution_count": null,
   "metadata": {},
   "outputs": [],
   "source": [
    "x0 = -2\n",
    "x1 = x0 - f(x0)/fp(x0)"
   ]
  },
  {
   "cell_type": "markdown",
   "metadata": {},
   "source": [
    "Comme nous pouvons le voir $x_1$ nous retourne la même valeur que dans la section précédente."
   ]
  },
  {
   "cell_type": "code",
   "execution_count": null,
   "metadata": {},
   "outputs": [],
   "source": [
    "N(x1)"
   ]
  },
  {
   "cell_type": "markdown",
   "metadata": {},
   "source": [
    "L'astuce pour définir notre boucle est de remarquer que $x_1$ peut être vu comme un *nouveau point de départ* à la méthode de Newton. Avec le code déjà utilisé, il suffit de redéfinir $x_0$ avec $x_0=x_1$. Nous recommençons donc la méthode avec un nouveau point de départ plus proche du zéro de la fonction f(x) et `x1=x0 - f(x0)/fp(x0)` sera la prochaine valeur à trouver dans la méthode de Newton.\n",
    "\n",
    "\n",
    "**#13 Exercice**: Réinitialiser $x_0$ et $x_1$ avec les consignes précédente et évaluer le nouveau $x_1$."
   ]
  },
  {
   "cell_type": "code",
   "execution_count": null,
   "metadata": {},
   "outputs": [],
   "source": []
  },
  {
   "cell_type": "markdown",
   "metadata": {},
   "source": [
    "Si vous exécutez plusieurs fois la cellule ci-dessus, vous verrez que la réponse se rapproche du zéro de la fonction. Après un certain nombre d'exécutions, nous pouvons remarquer que la réponse ne change plus. C'est-à-dire que la différence entre deux réponses successives est très petite, plus petite que la dernière décimale affichée. ($x_1-x_0$ et petit) C'est justement cette idée qui nous permettra de définir notre condition d'entrée pour notre boucle `while`. Si $|x_1-x_0|$ est trop grand, nous voulons exécuter la méthode de Newton. (La valeur absolue a été rajoutée pour que la différence soit positive) Alors, tant que $|x_1-x_0|$ est plus grand qu'un certain niveau de précision choisi, nous voulons exécuter la boucle `while`.\n",
    "\n"
   ]
  },
  {
   "cell_type": "markdown",
   "metadata": {},
   "source": [
    "#14 **Exercice**: Écrire la boucle qui permet de trouver le zéro de la fonction $f(x)$ avec une précision de 10^-8"
   ]
  },
  {
   "cell_type": "code",
   "execution_count": null,
   "metadata": {},
   "outputs": [],
   "source": []
  },
  {
   "cell_type": "markdown",
   "metadata": {},
   "source": [
    "#15 **Exercice**: À l'aide de la boucle précédente, trouver le zéro de la fonction $f(x)=2^{x}+x^3$. Ne pas oublier de redéfinir la fonction ainsi que sa dérivée."
   ]
  },
  {
   "cell_type": "code",
   "execution_count": null,
   "metadata": {},
   "outputs": [],
   "source": []
  }
 ],
 "metadata": {
  "kernelspec": {
   "display_name": "SageMath 9.3",
   "language": "sage",
   "name": "sagemath"
  },
  "language_info": {
   "codemirror_mode": {
    "name": "ipython",
    "version": 3
   },
   "file_extension": ".py",
   "mimetype": "text/x-python",
   "name": "python",
   "nbconvert_exporter": "python",
   "pygments_lexer": "ipython3",
   "version": "3.7.10"
  }
 },
 "nbformat": 4,
 "nbformat_minor": 4
}
